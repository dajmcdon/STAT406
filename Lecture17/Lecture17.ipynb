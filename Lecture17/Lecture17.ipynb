{
 "cells": [
  {
   "cell_type": "markdown",
   "metadata": {},
   "source": [
    "STAT406 - Lecture 17 notes\n",
    "================\n",
    "Matias Salibian-Barrera\n",
    "2019-10-31\n",
    "\n",
    "LICENSE\n",
    "-------\n",
    "\n",
    "These notes are released under the \"Creative Commons Attribution-ShareAlike 4.0 International\" license. See the **human-readable version** [here](https://creativecommons.org/licenses/by-sa/4.0/) and the **real thing** [here](https://creativecommons.org/licenses/by-sa/4.0/legalcode).\n",
    "\n",
    "Lecture slides\n",
    "--------------\n",
    "\n",
    "Lecture slides are [here](STAT406-19-lecture-17.pdf).\n",
    "\n",
    "Boosting (a Statistical Learning perspective)\n",
    "=============================================\n",
    "\n",
    "In these notes we will discuss boosting. Our starting point is one its first incarnations (the Adaboost.M1 algorithm). Our goal here is two-fold: introduce boosting as a **different** way of building an **ensemble** of *weak classifiers*, and also to show how a statistical analysis of the method offers valuable insight and opens a wide range of extensions and new methodologies. We follow the presentation in Chapter 10 of \\[HTF09\\].\n",
    "\n",
    "A different kind of ensembles\n",
    "-----------------------------\n",
    "\n",
    "So far in this course we have seen ensembles of classifiers (or regression estimators) based on the idea of bagging: combininig the predictions of a number of predictors trained on bootstrap samples taken from the original training set. By construction all the predictors in the ensemble are treated *equally* (e.g. their predictions receive the same weight when they are combined). Another characteristic of these ensembles is the predictors in them could be trained in parallel (they are independent from each other).\n",
    "\n",
    "Boosting algorithms go back to the late 90s. One of the first ones to appear in the Machine Learning literature is probably *Adaboost.M1* introduced in\n",
    "\n",
    "> Freund, Y. and Schapire, R. (1997). A decision-theoretic generalization of online learning and an application to boosting, *Journal of Computer and System Sciences*, **55**:119-139.\n",
    "\n",
    "We discussed the specifics of the algorithm in class. An important difference with the other ensembles we discussed in class (**can you name them?**) is that for *Adaboost.M1* the elements of the ensemble are trained **sequentially** in such a way that to compute the i-th predictor *T*<sub>*i*</sub> we need to have the previous one *T*<sub>*i* − 1</sub> available. Furthemore, the weights in the final combination of predictions are generally different for each member of the ensemble.\n",
    "\n",
    "Here we will use the implementation available in the `adabag` package, specifically the function `boosting`. This function can be rather slow, but it is a straight implementation of the Adaboost algorithm, and it returns many useful objects (e.g. each of the individual weak lerners, etc.) As usual, I suggest that you invest a few minutes reading the help pages and also *exploring* the returned objects by hand.\n",
    "\n",
    "Note that Adaboost was originally proposed for 2-class problems. To illustrate its use, we look at the zip code digits example. We consider the problem of building a classifier to determine whether an image is a *1* or a *9*. We use 1-split classification trees as our *weak lerners* in the ensemble. Since `boosting` uses the `rpart` implementation of classification and regression trees, we use the function `rpart.control` to specify the type of *weak lerners* we want.\n",
    "\n",
    "We first load the full training set, and extract the *7*'s and *9*'s. Since the original data file does not have feature names, we create them as \"V1\", \"V2\", etc."
   ]
  },
  {
   "cell_type": "code",
   "execution_count": null,
   "metadata": {},
   "outputs": [],
   "source": [
    "data(zip.train, package='ElemStatLearn')\n",
    "x.tr <- data.frame(zip.train)\n",
    "names( x.tr  ) <- paste('V', 1:257, sep='')\n",
    "x.tr <- x.tr[ x.tr$V1 %in% c(1, 9), ]"
   ]
  },
  {
   "cell_type": "markdown",
   "metadata": {},
   "source": [
    "To force `rpart` (and thus `boosting`) to train a classification ensemble (as opposed to a regression one) we force the response variable to be categorical."
   ]
  },
  {
   "cell_type": "code",
   "execution_count": null,
   "metadata": {},
   "outputs": [],
   "source": [
    "x.tr$V1 <- as.factor(x.tr$V1)"
   ]
  },
  {
   "cell_type": "markdown",
   "metadata": {},
   "source": [
    "Now we load the `adabag` package, use `rpart.control` to force it to use 1- or 2-split trees, and train the boosting ensemble:"
   ]
  },
  {
   "cell_type": "code",
   "execution_count": null,
   "metadata": {},
   "outputs": [],
   "source": [
    "library(adabag)\n",
    "onesplit <- rpart.control(cp=-1, maxdepth=1, minsplit=0, xval=0)\n",
    "bo1 <- boosting(V1 ~ ., data=x.tr, boos=FALSE, mfinal=500, control=onesplit)"
   ]
  },
  {
   "cell_type": "markdown",
   "metadata": {},
   "source": [
    "We can explore the evolution of the error rate on the training set (the equivalent of the MSE for classifiers) using the function `errorevol`:"
   ]
  },
  {
   "cell_type": "code",
   "execution_count": null,
   "metadata": {},
   "outputs": [],
   "source": [
    "plot(errorevol(bo1, newdata=x.tr))"
   ]
  },
  {
   "cell_type": "markdown",
   "metadata": {},
   "source": [
    "Note that after approximately 10 iterations the error rate on the training set drops to zero and stays there. A few questions for you:\n",
    "\n",
    "-   Has the algorithm converged after approximately 10 iterations?\n",
    "-   Are the predictors trained after the (approximately) 10th iteration irrelevant?\n",
    "\n",
    "As we know pretty well by now, a more reliable measure of the expected performance of the ensemble can be obtained using a test set (or cross-validation) (**what about OOB?**)\n",
    "\n",
    "First load the full test set, extract the cases corresponding to the digits we are using here, and check the performance of the predictor, including the plot of the error rate as a function of the number of elements in the ensemble:"
   ]
  },
  {
   "cell_type": "code",
   "execution_count": null,
   "metadata": {},
   "outputs": [],
   "source": [
    "data(zip.test, package='ElemStatLearn')\n",
    "x.te <- data.frame(zip.test)\n",
    "names( x.te ) <- paste('V', 1:257, sep='')\n",
    "x.te <- x.te[ x.te$V1 %in% c(1, 9), ]\n",
    "x.te$V1 <- as.factor(x.te$V1)\n",
    "table(x.te$V1, predict(bo1, newdata=x.te)$class)"
   ]
  },
  {
   "cell_type": "code",
   "execution_count": null,
   "metadata": {},
   "outputs": [],
   "source": [
    "plot(errorevol(bo1, newdata=x.te))"
   ]
  },
  {
   "cell_type": "markdown",
   "metadata": {},
   "source": [
    "Just to make sure boosting is doing a good job, we compare it with another ensemble classifier: a Random Forest. We use the same number of elements in both ensembles (500), even though their complexity is very different -- while boosting used *stumps* (1-split trees), the *random forest trees* are (purposedly) very large (deep).\n",
    "\n",
    "We first train the random forest and look at the error rates as displayed by the `plot` method for objects of class `randomForest`:"
   ]
  },
  {
   "cell_type": "code",
   "execution_count": null,
   "metadata": {},
   "outputs": [],
   "source": [
    "library(randomForest)\n",
    "set.seed(987)\n",
    "a <- randomForest(V1 ~ . , data=x.tr) # , ntree=500)\n",
    "plot(a)"
   ]
  },
  {
   "cell_type": "markdown",
   "metadata": {},
   "source": [
    "Now we evaluate the performance of the Random Forest on the training set by obtaining *fitted values* (\"predictions\" for the observations in the training set) and looking at the corresponding \"confusion table\":"
   ]
  },
  {
   "cell_type": "code",
   "execution_count": null,
   "metadata": {},
   "outputs": [],
   "source": [
    "table(x.tr$V1, predict(a, newdata=x.tr, type='response'))"
   ]
  },
  {
   "cell_type": "markdown",
   "metadata": {},
   "source": [
    "An interesting question to ask yourself at this point is: **Does this \"confusion table\" match the information from the error plot above?** Can you describe (and explain!) the apparent problem?\n",
    "\n",
    "As we all know too well, of course, the classification error rate *on the test set* is a better measure of predicition performance:"
   ]
  },
  {
   "cell_type": "code",
   "execution_count": null,
   "metadata": {},
   "outputs": [],
   "source": [
    "pr.rf <- predict(a, newdata=x.te, type='response')\n",
    "table(x.te$V1, pr.rf)"
   ]
  },
  {
   "cell_type": "markdown",
   "metadata": {},
   "source": [
    "We see that in this case the random forest does marginally worse than the boosting ensemble, even though the ensemble elements using in boosting are extremely simple trees.\n",
    "\n",
    "### Another example\n",
    "\n",
    "<!-- xtr <- read.table('c:/Users/Matias/Desktop/STAT406/2017-18/lecture16/isolet-train.data', header=FALSE, sep=',') -->\n",
    "<!-- xte <- read.table('c:/Users/Matias/Desktop/STAT406/2017-18/lecture16/isolet-test.data', header=FALSE, sep=',') -->\n",
    "<!-- xtr.ah <- xtr[ xtr$V618 %in% c(1, 8), ] -->\n",
    "<!-- xte.ah <- xte[ xte$V618 %in% c(1, 8), ] -->\n",
    "<!-- write.table(xtr.ah, file='isolet-train-a-h.data', row.names=FALSE, col.names=TRUE, sep=',', quote=FALSE) -->\n",
    "<!-- write.table(xte.ah, file='isolet-test-a-h.data', row.names=FALSE, col.names=TRUE, sep=',', quote=FALSE) -->\n",
    "<!-- xtr.mn <- xtr[ xtr$V618 %in% c(13, 14), ] -->\n",
    "<!-- xte.mn <- xte[ xte$V618 %in% c(13, 14), ] -->\n",
    "<!-- write.table(xtr.mn, file='isolet-train-m-n.data', row.names=FALSE, col.names=TRUE, sep=',', quote=FALSE) -->\n",
    "<!-- write.table(xte.mn, file='isolet-test-m-n.data', row.names=FALSE, col.names=TRUE, sep=',', quote=FALSE) -->\n",
    "Consider the ISOLET data introduced earlier. Here we will consider building a classifier to discriminate between the letters *A* and *H* based on the features extracted from their sound recordings. The steps of the analysis are the same as before:\n",
    "\n",
    "First we load the training set"
   ]
  },
  {
   "cell_type": "code",
   "execution_count": null,
   "metadata": {},
   "outputs": [],
   "source": [
    "xtr <- read.table('isolet-train-a-h.data', sep=',', header=TRUE)"
   ]
  },
  {
   "cell_type": "markdown",
   "metadata": {},
   "source": [
    "Next, we force the response to be a categorical variable:"
   ]
  },
  {
   "cell_type": "code",
   "execution_count": null,
   "metadata": {},
   "outputs": [],
   "source": [
    "xtr$V618 <- as.factor(xtr$V618)"
   ]
  },
  {
   "cell_type": "markdown",
   "metadata": {},
   "source": [
    "Now train a boosting ensamble and evaluate it on the test set (which needs to be loaded as well):"
   ]
  },
  {
   "cell_type": "code",
   "execution_count": null,
   "metadata": {},
   "outputs": [],
   "source": [
    "onesplit <- rpart.control(cp=-1, maxdepth=1, minsplit=0, xval=0)\n",
    "bo1 <- boosting(V618 ~ ., data=xtr, boos=FALSE, mfinal=200, control=onesplit)\n",
    "xte <- read.table('isolet-test-a-h.data', sep=',', header=TRUE) \n",
    "xte$V618 <- as.factor(xte$V618)\n",
    "table(xte$V618, predict(bo1, newdata=xte)$class)"
   ]
  },
  {
   "cell_type": "markdown",
   "metadata": {},
   "source": [
    "We can also look at the error evolution on the test set to decide whether a smaller ensemble would be satisfactory:"
   ]
  },
  {
   "cell_type": "code",
   "execution_count": null,
   "metadata": {},
   "outputs": [],
   "source": [
    "plot(errorevol(bo1, newdata=xte))"
   ]
  },
  {
   "cell_type": "markdown",
   "metadata": {},
   "source": [
    "Finally, we compare these results with those obtained with a Random Forest:"
   ]
  },
  {
   "cell_type": "code",
   "execution_count": null,
   "metadata": {},
   "outputs": [],
   "source": [
    "set.seed(123)\n",
    "a.rf <- randomForest(V618 ~ ., data=xtr, ntree=200) \n",
    "plot(a.rf)"
   ]
  },
  {
   "cell_type": "code",
   "execution_count": null,
   "metadata": {},
   "outputs": [],
   "source": [
    "p.rf <- predict(a.rf, newdata=xte, type='response')\n",
    "table(xte$V618, p.rf)"
   ]
  },
  {
   "cell_type": "markdown",
   "metadata": {},
   "source": [
    "<!-- # twosplits <- rpart.control(cp=-1, maxdepth=2, minsplit=0, xval=0) -->\n",
    "<!-- # bo2 <- boosting(V618 ~ ., data=xtr, boos=FALSE, mfinal=500, control=twosplits) -->\n",
    "<!-- # table(xte$V618, predict(bo2, newdata=xte)$class) -->\n",
    "<!-- # plot(errorevol(bo2, newdata=xte)) -->\n",
    "<!-- ## What is Adaboost doing, *really*?  -->\n",
    "<!-- We have seen in class that Adaboost can be thought of as  -->\n",
    "<!-- fitting an *additive model* in a stepwise (greedy) way, -->\n",
    "<!-- using an exponential loss.  -->\n",
    "<!-- It is then easy to prove that Adaboost.M1  -->\n",
    "<!-- is computing an approximation to the *optimal classifier* -->\n",
    "<!-- G( x ) = log[ P( Y = 1 | X = x ) / P( Y = -1 | X = x ) ] / 2. -->\n",
    "<!-- More specifically, Adaboost.M1 is fitting an  -->\n",
    "<!-- additive model to that function, in other words is -->\n",
    "<!-- attempting to find functions $f_1$, $f_2$, ..., $f_N$ such that  -->\n",
    "<!-- $G(x) = \\sum_i f_i( x )$.  -->\n",
    "<!-- Knowing what function the boosting algorithm is approximating (albeit in  -->\n",
    "<!-- a greedy and suboptimal way), allows us to    -->\n",
    "<!-- understand when the algorithm is expected to work well, -->\n",
    "<!-- and also when it may not work well.  -->\n",
    "<!-- In particular, it provides one way to choose the complexity of the  -->\n",
    "<!-- *weak lerners* used to construct the ensemble. For an example -->\n",
    "<!-- you can refer to the corresponding lab activity.  -->\n",
    "<!-- ### A more challenging example, the `email spam` data -->\n",
    "<!-- The email spam data set is a relatively classic data set  -->\n",
    "<!-- containing 57 features (potentially explanatory variables)  -->\n",
    "<!-- measured on 4601 email messages. The goal is to predict -->\n",
    "<!-- whether an email is *spam* or not. The 57 features are  -->\n",
    "<!-- a mix of continuous and discrete variables. More information -->\n",
    "<!-- can be found at -->\n",
    "<!-- [https://archive.ics.uci.edu/ml/datasets/spambase](https://archive.ics.uci.edu/ml/datasets/spambase). -->\n",
    "<!-- We first load the data and randomly separate it into a training and -->\n",
    "<!-- a test set. A more thorough analysis would be to use  -->\n",
    "<!-- *full* K-fold cross-validation, but given the computational -->\n",
    "<!-- complexity, I decided to leave the rest of this  -->\n",
    "<!-- 3-fold CV exercise to the reader.  -->\n",
    "<!-- ```{r spam.1, fig.width=6, fig.height=6, message=FALSE, warning=FALSE} -->\n",
    "<!-- data(spam, package='ElemStatLearn') -->\n",
    "<!-- n <- nrow(spam) -->\n",
    "<!-- set.seed(987) -->\n",
    "<!-- ii <- sample(n, floor(n/3)) -->\n",
    "<!-- spam.te <- spam[ii, ] -->\n",
    "<!-- spam.tr <- spam[-ii, ] -->\n",
    "<!-- ``` -->\n",
    "<!-- We now use Adaboost with 500 iterations, using *stumps* as our -->\n",
    "<!-- weak learners / classifiers, and check the performance on -->\n",
    "<!-- the test set: -->\n",
    "<!-- ```{r spam.2, fig.width=6, fig.height=6, message=FALSE, warning=FALSE} -->\n",
    "<!-- library(adabag) -->\n",
    "<!-- onesplit <- rpart.control(cp=-1, maxdepth=1, minsplit=0, xval=0) -->\n",
    "<!-- bo1 <- boosting(spam ~ ., data=spam.tr, boos=FALSE, mfinal=500, control=onesplit) -->\n",
    "<!-- pr1 <- predict(bo1, newdata=spam.te) -->\n",
    "<!-- table(spam.te$spam, pr1$class) -->\n",
    "<!-- ``` -->\n",
    "<!-- The classification error rate on the test set is rather high. We now -->\n",
    "<!-- compare it with that of a Random Forest: -->\n",
    "<!-- ```{r spam.3, fig.width=6, fig.height=6, message=FALSE, warning=FALSE} -->\n",
    "<!-- library(randomForest) -->\n",
    "<!-- set.seed(123)  -->\n",
    "<!-- a <- randomForest(spam ~ . , data=spam.tr) # , ntree=500) -->\n",
    "<!-- plot(a) -->\n",
    "<!-- pr.rf <- predict(a, newdata=spam.te, type='response') -->\n",
    "<!-- table(spam.te$spam, pr.rf) -->\n",
    "<!-- ``` -->\n",
    "<!-- The number of trees in the random forest seems to be appropriate, and its -->\n",
    "<!-- performance on this test set is definitively better than that of  -->\n",
    "<!-- boosting. Is there any *room for improvement* for Adaboost?  -->\n",
    "<!-- As we discussed in class, depending on the interactions that may be  -->\n",
    "<!-- present in the *true classification function*, we might be able to  -->\n",
    "<!-- improve our boosting classifier by slightly increasing the complexity -->\n",
    "<!-- of our base ensemble members. Here we try to use 3-split classification -->\n",
    "<!-- trees, instead of the 1-split ones used above: -->\n",
    "<!-- ```{r spam.4, fig.width=6, fig.height=6, message=FALSE, warning=FALSE} -->\n",
    "<!-- threesplits <- rpart.control(cp=-1, maxdepth=3, minsplit=0, xval=0) -->\n",
    "<!-- bo3 <- boosting(spam ~ ., data=spam.tr, boos=FALSE, mfinal=500, control=threesplits) -->\n",
    "<!-- pr3 <- predict(bo3, newdata=spam.te) -->\n",
    "<!-- table(spam.te$spam, pr3$class) -->\n",
    "<!-- ``` -->\n",
    "<!-- There is, in fact, a noticeable improvement in performance on this -->\n",
    "<!-- test set. The number of element on the boosting ensemble appears to be -->\n",
    "<!-- appropriate: -->\n",
    "<!-- ```{r spam.5, fig.width=6, fig.height=6, message=FALSE, warning=FALSE} -->\n",
    "<!-- plot(errorevol(bo3, newdata=spam.te)) -->\n",
    "<!-- ``` -->\n",
    "<!-- As mentioned above, you, dear reader, are encouraged to finish this analysis -->\n",
    "<!-- by doing a complete 3-fold CV run in order to compare boosting with random  -->\n",
    "<!-- forests on these data.  -->\n",
    "<!-- ## Gradient boosting -->"
   ]
  }
 ],
 "metadata": {
  "kernelspec": {
   "display_name": "R",
   "language": "R",
   "name": "ir"
  },
  "language_info": {
   "codemirror_mode": "r",
   "file_extension": ".r",
   "mimetype": "text/x-r-source",
   "name": "R",
   "pygments_lexer": "r",
   "version": "3.6.1"
  }
 },
 "nbformat": 4,
 "nbformat_minor": 2
}
