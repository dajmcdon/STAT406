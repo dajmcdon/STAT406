{
 "cells": [
  {
   "cell_type": "markdown",
   "metadata": {},
   "source": [
    "STAT406 - Lecture 1 notes\n",
    "================\n",
    "Matias Salibian-Barrera\n",
    "2019-09-10\n",
    "\n",
    "#### LICENSE\n",
    "\n",
    "These notes are released under the “Creative Commons\n",
    "Attribution-ShareAlike 4.0 International” license. See the\n",
    "**human-readable version**\n",
    "[here](https://creativecommons.org/licenses/by-sa/4.0/) and the **real\n",
    "thing**\n",
    "[here](https://creativecommons.org/licenses/by-sa/4.0/legalcode).\n",
    "\n",
    "## Lecture slides\n",
    "\n",
    "The lecture slides are [here](STAT406-19-lecture-1.pdf).\n",
    "\n",
    "## Predictions using a linear model\n",
    "\n",
    "In this document we will explore (rather superficially) some challenges\n",
    "found when trying to estimate the forecasting properties (e.g. the mean\n",
    "squared prediction error) of a (linear) predictor. We will use the\n",
    "air-pollution data set, which I have split into a *training set* and a\n",
    "*test set*. The test set will be ignored when **training** our model (in\n",
    "the case of a linear model, “**training**” simply means “**when\n",
    "estimating the vector of linear regression parameters**”).\n",
    "\n",
    "If you are interested in how these sets (*training* and *test*) were\n",
    "constructed: I ran the following script (you do not need to do this, as\n",
    "I am providing both data sets to you, but you can re-create them\n",
    "yourself if you want to):"
   ]
  },
  {
   "cell_type": "code",
   "execution_count": null,
   "metadata": {},
   "outputs": [],
   "source": [
    "x <- read.csv('rutgers-lib-30861_CSV-1.csv')\n",
    "set.seed(123)\n",
    "ii <- sample(rep(1:4, each=15))\n",
    "# this is the training set `pollution-train.dat`\n",
    "x.tr <- x[ii != 2, ]\n",
    "# this is the test set `pollution-test.dat`\n",
    "x.te <- x[ii == 2, ]\n",
    "# then I saved them to disk:\n",
    "# write.csv(x.tr, file='pollution-train.dat', row.names=FALSE, quote=FALSE)\n",
    "# write.csv(x.te, file='pollution-test.dat', row.names=FALSE, quote=FALSE)"
   ]
  },
  {
   "cell_type": "markdown",
   "metadata": {},
   "source": [
    "We now read the **training** data set from the file\n",
    "`pollution-train.dat`, which is available [here](pollution-train.dat),\n",
    "and check that it was read properly:"
   ]
  },
  {
   "cell_type": "code",
   "execution_count": null,
   "metadata": {},
   "outputs": [],
   "source": [
    "x.tr <- read.table('pollution-train.dat', header=TRUE, sep=',')\n",
    "# sanity check\n",
    "head(x.tr)"
   ]
  },
  {
   "cell_type": "markdown",
   "metadata": {},
   "source": [
    "The response variable is `MORT`. Our first step is to fit a linear\n",
    "regression model with all available predictors and look at a few\n",
    "diagnostic plots where everything looks fine:"
   ]
  },
  {
   "cell_type": "code",
   "execution_count": null,
   "metadata": {},
   "outputs": [],
   "source": [
    "full <- lm(MORT ~ . , data=x.tr)\n",
    "plot(full, which=1)"
   ]
  },
  {
   "cell_type": "code",
   "execution_count": null,
   "metadata": {},
   "outputs": [],
   "source": [
    "plot(full, which=2)"
   ]
  },
  {
   "cell_type": "code",
   "execution_count": null,
   "metadata": {},
   "outputs": [],
   "source": [
    "summary(full)"
   ]
  },
  {
   "cell_type": "markdown",
   "metadata": {},
   "source": [
    "The fit appears to be routine, and reasonable (why? what did I check to\n",
    "come to this conclusion?).\n",
    "\n",
    "### A new focus: prediction\n",
    "\n",
    "This course will be primarily concerned with making (good) predictions\n",
    "for cases (data points) that we may have not observed yet (future\n",
    "predictions). This is a bit different from the focus of other Statistics\n",
    "courses you may have taken. You will see later in the course that what\n",
    "you learned in other Statistics courses (e.g. trade-offs between\n",
    "flexibility and stability of different models, uncertainty and standard\n",
    "techniques to reduce it, etc.) will prove to be critical for building\n",
    "good predictions.\n",
    "\n",
    "As a simple example, in the rest of this note we will compare the\n",
    "quality of this model’s predictions with those of a simpler (smaller)\n",
    "linear model with only 5 predictors. For this illustrative example, we\n",
    "will not worry about how these 5 explanatory variables were selected,\n",
    "however, this will play a **critical** role later in the course).\n",
    "\n",
    "We now fit this **reduced** model and look at the estimated parameters\n",
    "and diagnostic plots"
   ]
  },
  {
   "cell_type": "code",
   "execution_count": null,
   "metadata": {},
   "outputs": [],
   "source": [
    "reduced <- lm(MORT ~ POOR + HC + NOX + HOUS + NONW, data=x.tr)\n",
    "summary(reduced)"
   ]
  },
  {
   "cell_type": "code",
   "execution_count": null,
   "metadata": {},
   "outputs": [],
   "source": [
    "plot(reduced, which=1)"
   ]
  },
  {
   "cell_type": "code",
   "execution_count": null,
   "metadata": {},
   "outputs": [],
   "source": [
    "plot(reduced, which=2)"
   ]
  },
  {
   "cell_type": "code",
   "execution_count": null,
   "metadata": {},
   "outputs": [],
   "source": [
    "sum( resid(reduced)^2 )"
   ]
  },
  {
   "cell_type": "code",
   "execution_count": null,
   "metadata": {},
   "outputs": [],
   "source": [
    "sum( resid(full)^2 )"
   ]
  },
  {
   "cell_type": "markdown",
   "metadata": {},
   "source": [
    "This observation should be obvious to you, since, as you already now, a\n",
    "model will **always** yield a better fit to the data in terms of\n",
    "residual sum of squares than any of its submodels (i.e. any model using\n",
    "a subset of the explanatory variables). I expect you to be able to\n",
    "formally prove the last satement.\n",
    "\n",
    "Our question of interest here is: “Which model produces better\n",
    "predictions?” In many cases one is interested in predicting future\n",
    "observations, i.e.  predicting the response variable for data that was\n",
    "not available when the model / predictor was *fit* or *trained*. As we\n",
    "discussed in class, a reasonably fair comparison can be obtined by\n",
    "comparing the mean squared predictions of these two linear models on the\n",
    "test set, which we read into `R` as follows:"
   ]
  },
  {
   "cell_type": "code",
   "execution_count": null,
   "metadata": {},
   "outputs": [],
   "source": [
    "x.te <- read.table('pollution-test.dat', header=TRUE, sep=',')\n",
    "head(x.te)"
   ]
  },
  {
   "cell_type": "markdown",
   "metadata": {},
   "source": [
    "Now compute the predicted values for the test set with both the **full**\n",
    "and **reduced** models:"
   ]
  },
  {
   "cell_type": "code",
   "execution_count": null,
   "metadata": {},
   "outputs": [],
   "source": [
    "x.te$pr.full <- predict(full, newdata=x.te)  \n",
    "x.te$pr.reduced <- predict(reduced, newdata=x.te)  "
   ]
  },
  {
   "cell_type": "markdown",
   "metadata": {},
   "source": [
    "and compute the corresponding mean squared prediction errors:"
   ]
  },
  {
   "cell_type": "code",
   "execution_count": null,
   "metadata": {},
   "outputs": [],
   "source": [
    "with(x.te, mean( (MORT - pr.full)^2 ))"
   ]
  },
  {
   "cell_type": "code",
   "execution_count": null,
   "metadata": {},
   "outputs": [],
   "source": [
    "with(x.te, mean( (MORT - pr.reduced)^2 ))"
   ]
  },
  {
   "cell_type": "markdown",
   "metadata": {},
   "source": [
    "Note that the reduced model (that did not fit the data as well as the\n",
    "full model) nevertheless produced better predictions (smaller mean\n",
    "squared prediction errors) on the test set.\n",
    "\n",
    "At this point you should put on your critical / skeptical hat and wonder\n",
    "if this did not happen *by chance*, i.e. if this may be just an artifact\n",
    "of the specific training/test partition we used. The following simple\n",
    "experiment shows that this is not the case. It would be a **very good\n",
    "exercise** for you to repeat it many times (100, say) to verify my\n",
    "claim.\n",
    "\n",
    "First, read the whole data and create a new training / test random\n",
    "split."
   ]
  },
  {
   "cell_type": "code",
   "execution_count": null,
   "metadata": {},
   "outputs": [],
   "source": [
    "# repeat with different partitions\n",
    "x <- read.csv('rutgers-lib-30861_CSV-1.csv')\n",
    "set.seed(456)\n",
    "ii <- sample(rep(1:4, each=15))\n",
    "x.tr <- x[ii != 2, ]\n",
    "x.te <- x[ii == 2, ]"
   ]
  },
  {
   "cell_type": "markdown",
   "metadata": {},
   "source": [
    "In the above code chunk, I used `x.tr` to denote the training set and\n",
    "`x.te` for the test set. Now, fit the full and reduced models on this\n",
    "new training set:"
   ]
  },
  {
   "cell_type": "code",
   "execution_count": null,
   "metadata": {},
   "outputs": [],
   "source": [
    "full <- lm(MORT ~ . , data=x.tr)\n",
    "reduced <- lm(MORT ~ POOR + HC + NOX + HOUS + NONW, data=x.tr)"
   ]
  },
  {
   "cell_type": "markdown",
   "metadata": {},
   "source": [
    "Finally, estimate the mean squared prediction error of these models with\n",
    "their squared prediction error on the test set:"
   ]
  },
  {
   "cell_type": "code",
   "execution_count": null,
   "metadata": {},
   "outputs": [],
   "source": [
    "x.te$pr.full <- predict(full, newdata=x.te)\n",
    "x.te$pr.reduced <- predict(reduced, newdata=x.te)\n",
    "with(x.te, mean( (MORT - pr.full)^2 ))"
   ]
  },
  {
   "cell_type": "code",
   "execution_count": null,
   "metadata": {},
   "outputs": [],
   "source": [
    "with(x.te, mean( (MORT - pr.reduced)^2 ))"
   ]
  },
  {
   "cell_type": "markdown",
   "metadata": {},
   "source": [
    "Note that the estimated mean squared prediction error of the reduced\n",
    "model is again considerably smaller than that of the full model (even\n",
    "though the latter always fits the training set better than the reduced\n",
    "one)."
   ]
  }
 ],
 "metadata": {
  "kernelspec": {
   "display_name": "R",
   "language": "R",
   "name": "ir"
  },
  "language_info": {
   "codemirror_mode": "r",
   "file_extension": ".r",
   "mimetype": "text/x-r-source",
   "name": "R",
   "pygments_lexer": "r",
   "version": "3.6.1"
  }
 },
 "nbformat": 4,
 "nbformat_minor": 2
}
